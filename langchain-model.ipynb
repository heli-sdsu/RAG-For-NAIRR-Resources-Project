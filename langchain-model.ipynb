{
 "cells": [
  {
   "cell_type": "code",
   "execution_count": 1,
   "id": "c93478b8-77eb-4ff0-81ae-d843c2fcc362",
   "metadata": {},
   "outputs": [
    {
     "name": "stdout",
     "output_type": "stream",
     "text": [
      "Note: you may need to restart the kernel to use updated packages.\n"
     ]
    }
   ],
   "source": [
    "#first run ollama serve in the terminal\n",
    "%pip install langchain_community -q\n",
    "%pip install langchain_chroma -q\n",
    "%pip install langchain_ollama -q"
   ]
  },
  {
   "cell_type": "code",
   "execution_count": 3,
   "id": "907cca37-48d0-4d3f-a90c-0dc71d32c68b",
   "metadata": {},
   "outputs": [],
   "source": [
    "import os\n",
    "from langchain_community.document_loaders import WebBaseLoader\n",
    "from langchain_text_splitters import RecursiveCharacterTextSplitter\n",
    "from langchain_ollama import OllamaEmbeddings, OllamaLLM\n",
    "from langchain_chroma import Chroma\n",
    "import chromadb\n",
    "os.environ['USER_AGENT'] = 'dd'\n",
    "persist_directory = \"./chroma_db\"\n",
    "load_from_db = False  # set to False to scrape again and re-embed\n",
    "\n",
    "local_embeddings = OllamaEmbeddings(model=\"nomic-embed-text:latest\")\n",
    "\n",
    "web_pages = [\"https://docs.ncsa.illinois.edu/systems/delta/en/latest/user_guide/architecture.html\", \"https://www.sdsc.edu/systems/expanse/index.html\"]"
   ]
  },
  {
   "cell_type": "code",
   "execution_count": 12,
   "id": "236d7122-5099-4496-8a67-106e2cb02927",
   "metadata": {},
   "outputs": [],
   "source": [
    "if not load_from_db:\n",
    "    persistent_client = chromadb.PersistentClient(path = persist_directory)\n",
    "    collection = persistent_client.get_or_create_collection(\"test_collection\")\n",
    "    vector_store_from_client = Chroma(\n",
    "        client=persistent_client,\n",
    "        collection_name=\"test_collection\",\n",
    "        embedding_function=local_embeddings,\n",
    "    )\n",
    "    \n",
    "    # Load and split\n",
    "    loader = WebBaseLoader(web_pages)\n",
    "    docs = loader.load()\n",
    "    \n",
    "    text_splitter = RecursiveCharacterTextSplitter(\n",
    "        chunk_size=1200, chunk_overlap=100, add_start_index=True\n",
    "    )\n",
    "    all_splits = text_splitter.split_documents(docs)\n",
    "\n",
    "    # Embed and save\n",
    "    vector_store_from_client.add_documents(documents=all_splits)\n",
    "    \n",
    "else:\n",
    "    # Load from saved vector DB\n",
    "    print(\"loading vector store from db...\")\n",
    "    persistent_client = chromadb.PersistentClient(path = persist_directory)\n",
    "    vector_store_from_client = Chroma(\n",
    "            client=persistent_client,\n",
    "            collection_name=\"test_collection\",\n",
    "            embedding_function=local_embeddings,\n",
    "    )"
   ]
  },
  {
   "cell_type": "code",
   "execution_count": null,
   "id": "a2e6e531-43f9-4676-8410-dde5fe66f4e8",
   "metadata": {},
   "outputs": [],
   "source": [
    "retriever = vector_store_from_client.as_retriever(search_type=\"similarity\", search_kwargs={\"k\": 3})\n",
    "\n",
    "question = \"How many compute nodes at at NCSA Delta?\"\n",
    "retrieved_docs = retriever.invoke(question)\n",
    "context = ' '.join([doc.page_content for doc in retrieved_docs])\n",
    "llm = OllamaLLM(model=\"llama3:latest\")\n",
    "response = llm.invoke(f\"\"\"Answer the question concisely:\n",
    "           Question: {question}.\n",
    "           Context: {context}\n",
    "\"\"\")\n",
    "\n",
    "print(response)"
   ]
  },
  {
   "cell_type": "code",
   "execution_count": null,
   "id": "e113cdd4-754a-4ac2-9165-6561124e67c3",
   "metadata": {},
   "outputs": [],
   "source": [
    "# Run this if you want to check the data in the db\n",
    "\n",
    "import sqlite3\n",
    "\n",
    "# Create a SQL connection to our SQLite database\n",
    "conn = sqlite3.connect(\"chroma_db/chroma.sqlite3\")\n",
    "cursor = conn.cursor()\n",
    "\n",
    "# List tables\n",
    "cursor.execute(\"SELECT name FROM sqlite_master WHERE type='table';\")\n",
    "print(\"Tables:\", cursor.fetchall())\n",
    "\n",
    "# Explore one (example: collection)\n",
    "cursor.execute(\"SELECT * FROM embedding_metadata;\")\n",
    "for row in cursor.fetchall():\n",
    "    print(row)\n",
    "\n",
    "conn.close()"
   ]
  }
 ],
 "metadata": {
  "kernelspec": {
   "display_name": "Python 3 (ipykernel)",
   "language": "python",
   "name": "python3"
  },
  "language_info": {
   "codemirror_mode": {
    "name": "ipython",
    "version": 3
   },
   "file_extension": ".py",
   "mimetype": "text/x-python",
   "name": "python",
   "nbconvert_exporter": "python",
   "pygments_lexer": "ipython3",
   "version": "3.12.9"
  }
 },
 "nbformat": 4,
 "nbformat_minor": 5
}
