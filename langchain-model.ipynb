{
 "cells": [
  {
   "cell_type": "code",
   "execution_count": 1,
   "id": "907cca37-48d0-4d3f-a90c-0dc71d32c68b",
   "metadata": {},
   "outputs": [
    {
     "name": "stderr",
     "output_type": "stream",
     "text": [
      "USER_AGENT environment variable not set, consider setting it to identify your requests.\n"
     ]
    }
   ],
   "source": [
    "import bs4\n",
    "from langchain_community.document_loaders import WebBaseLoader\n",
    "import os\n",
    "os.environ['USER_AGENT'] = 'dd'\n",
    "\n",
    "# bs4_strainer = bs4.SoupStrainer(class_=(\"content-area\"))\n",
    "# loader = WebBaseLoader(\n",
    "#     web_paths=(\"https://www.sdsc.edu/systems/expanse/user_guide.html\",),\n",
    "#     bs_kwargs={\"parse_only\": bs4_strainer},\n",
    "# )\n",
    "\n",
    "loader = WebBaseLoader(\"https://www.sdsc.edu/systems/expanse/index.html\")\n",
    "docs = loader.load()\n"
   ]
  },
  {
   "cell_type": "code",
   "execution_count": 2,
   "id": "236d7122-5099-4496-8a67-106e2cb02927",
   "metadata": {},
   "outputs": [],
   "source": [
    "from langchain_text_splitters import RecursiveCharacterTextSplitter\n",
    "\n",
    "text_splitter = RecursiveCharacterTextSplitter(\n",
    "    chunk_size=1200, chunk_overlap=100, add_start_index=True\n",
    ")\n",
    "all_splits = text_splitter.split_documents(docs)"
   ]
  },
  {
   "cell_type": "code",
   "execution_count": 3,
   "id": "5a0a43e7-4a0b-46af-bf94-f4d326deaf44",
   "metadata": {},
   "outputs": [],
   "source": [
    "# %pip install -qU langchain-ollama\n",
    "from langchain_ollama import OllamaEmbeddings\n",
    "from langchain_chroma import Chroma\n",
    "\n",
    "local_embeddings = OllamaEmbeddings(model=\"nomic-embed-text:latest\")\n",
    "vectorstore = Chroma.from_documents(documents=all_splits, embedding=local_embeddings)"
   ]
  },
  {
   "cell_type": "code",
   "execution_count": 4,
   "id": "c774383b-239e-4365-83d2-54d0e9e70454",
   "metadata": {},
   "outputs": [],
   "source": [
    "\n",
    "retriever = vectorstore.as_retriever(search_type=\"similarity\", search_kwargs={\"k\": 3})\n",
    "retrieved_docs = retriever.invoke(question)\n",
    "\n",
    "context = ' '.join([doc.page_content for doc in retrieved_docs])"
   ]
  },
  {
   "cell_type": "code",
   "execution_count": 5,
   "id": "b001f6b0-ef3a-46bd-bb86-f930ba508213",
   "metadata": {},
   "outputs": [
    {
     "data": {
      "text/plain": [
       "'Expanse\\n\\n\\n\\n\\n\\n\\n\\n\\n\\n\\n\\n\\n\\n\\n\\n\\n\\n\\n\\n\\n\\n\\n\\n\\n\\n\\n\\n\\n\\n\\n\\n\\n\\n\\n\\nSystems\\n\\n\\n\\n\\n\\nFrom the earliest Cray systems to today’s high performance AI-integrated computing environments, SDSC enables discovery by architecting and operating innovative supercomputers; delivering research computing services and support; and providing infrastructure services including cloud, network, storage and data center colocation facilities.\\n\\n\\n\\nExpanse\\nNational Research Platform\\nSDSC Cloud\\nSherlock Secure Cloud\\nTriton Shared Computing Cluster\\nVoyager\\nCosmos\\n\\n\\n\\n\\n\\n\\n\\nServices\\n\\n\\n\\n\\n\\nFrom AI-enabled data science through end-to-end cyberinfrastructure solutions, SDSC’s experts provide academic researchers and industry partners with the consulting and training to take their projects to the next level.\\n\\n\\n\\nCloud\\nColocation\\nConsulting\\nData Management\\nHigh-Performance Computing\\nRegulatory Compliance\\nScience Gateways\\nSoftware & Applications\\nStorage\\nWeb & Database Hosting\\n\\n\\n\\n\\n\\n\\n\\nResearch Expanse\\n5 Pflop/s peak; 93,184 CPU cores; 208 NVIDIA GPUs; 220 TB total DRAM; 810 TB total NVMe\\n\\nStandard Compute Nodes (728 total)AMD EPYC 7742 (Rome) Compute Nodes; 2.25 GHz; 128 cores per node; 1 TB NVMe per node; 256 GB DRAM per node\\nGPU Nodes (52 total)NVIDIA V100s SMX2 with 4 GPUs per node; 40 6248 Xeon CPU cores per node; 384 GB CPU DRAM per node; 2.5 GHz CPU clock speed; 32 GB memory per GPU; 1.6 TB NVMe per node; connected via NVLINK\\nLarge-memory Nodes (4 total)AMD Rome nodes; 2 TB DRAM per node; 3.2 TB SSD memory per node; 128 cores per node; 2.25 GHz\\nInterconnectHDR InfiniBand, Hybrid Fat-Tree topology; 100 Gb/s (bidirectional) link bandwidth; 1.17-x.xx µs MPI latency\\nStorage SystemsAccess to Lustre (12 PB) and Ceph (7 PB) storage\\nSDSC Scalable Compute Units (13 total)\\nEntire system organized as 13 complete SSCUs, consisting of 56 standard nodes and four GPU nodes connected with 100 GB/s HDR InfiniBand Expanse\\n\\n\\n\\n\\n\\n\\n\\n\\n\\nHome\\nSystems\\nExpanse\\n\\n\\n\\n\\n\\n\\n\\n\\n\\n\\n\\n\\n\\n\\n\\n\\n\\n\\n\\n\\n\\n\\n\\nComputing Without Boundaries\\nExpanse supports SDSC’s vision of “Computing without Boundaries” by increasing the capacity and performance for thousands of users of batch-oriented and science gateway computing, and by providing new capabilities that will enable research increasingly dependent upon heterogeneous and distributed resources composed into integrated and highly usable cyberinfrastructure.\\n\\n\\n\\n\\n\\n\\n\\n\\n\\n\\n\\xa0\\n\\n\\n\\n\\n\\n\\n\\n\\n\\nSystem\\nPerformance\\nKey Features\\n\\n\\n\\n\\nExpanse\\n5 Pflop/s peak; 93,184 CPU cores; 208 NVIDIA GPUs; 220 TB total DRAM; 810 TB total NVMe'"
      ]
     },
     "execution_count": 5,
     "metadata": {},
     "output_type": "execute_result"
    }
   ],
   "source": [
    "context"
   ]
  },
  {
   "cell_type": "code",
   "execution_count": 20,
   "id": "bae549f7-3643-41cc-9b28-07b653971ec0",
   "metadata": {},
   "outputs": [],
   "source": [
    "from langchain_ollama import OllamaLLM\n",
    "question = \"how many standard compute nodes are at SDSC?\"\n",
    "llm = OllamaLLM(model=\"mixtral:8x7b\")\n",
    "response = llm.invoke(f\"\"\"Answer the question according with a single number:\n",
    "           Question: {question}.\n",
    "           Context: {context}\n",
    "\"\"\")"
   ]
  },
  {
   "cell_type": "code",
   "execution_count": 21,
   "id": "9959ef5e-5e82-468b-a2dd-8d79f4ef03d9",
   "metadata": {},
   "outputs": [
    {
     "name": "stdout",
     "output_type": "stream",
     "text": [
      "728 standard compute nodes are at SDSC's Expanse.\n"
     ]
    }
   ],
   "source": [
    "print(response)"
   ]
  },
  {
   "cell_type": "code",
   "execution_count": null,
   "id": "a2e6e531-43f9-4676-8410-dde5fe66f4e8",
   "metadata": {},
   "outputs": [],
   "source": []
  }
 ],
 "metadata": {
  "kernelspec": {
   "display_name": "Python [conda env:llm]",
   "language": "python",
   "name": "conda-env-llm-py"
  },
  "language_info": {
   "codemirror_mode": {
    "name": "ipython",
    "version": 3
   },
   "file_extension": ".py",
   "mimetype": "text/x-python",
   "name": "python",
   "nbconvert_exporter": "python",
   "pygments_lexer": "ipython3",
   "version": "3.11.9"
  }
 },
 "nbformat": 4,
 "nbformat_minor": 5
}
